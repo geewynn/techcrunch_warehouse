{
 "cells": [
  {
   "cell_type": "code",
   "execution_count": 1,
   "metadata": {},
   "outputs": [],
   "source": [
    "from pyspark.sql import SparkSession"
   ]
  },
  {
   "cell_type": "code",
   "execution_count": 2,
   "metadata": {},
   "outputs": [],
   "source": [
    "spark = SparkSession \\\n",
    "        .builder \\\n",
    "        .appName('Wrangling Data') \\\n",
    "        .getOrCreate()"
   ]
  },
  {
   "cell_type": "code",
   "execution_count": 5,
   "metadata": {},
   "outputs": [],
   "source": [
    "author_df = spark.read.csv('authors.csv')\n",
    "author_df.createOrReplaceTempView('authors')\n",
    "\n",
    "author_table = spark.sql(\"\"\"\n",
    "select authors._c0 author_id,\n",
    "        authors._c1 author,\n",
    "        authors._c2 meibi,\n",
    "        authors._c3 meibix\n",
    "from authors\n",
    "\"\"\")\n",
    "author_table.write.parquet('temp_file/author.parquet')"
   ]
  },
  {
   "cell_type": "code",
   "execution_count": 6,
   "metadata": {},
   "outputs": [],
   "source": [
    "word_count_table = spark.sql(\"\"\"\n",
    "select authors._c1 author,\n",
    "       authors._c0 author_id,\n",
    "       authors._c4 word_count_stopwords,\n",
    "       authors._c5 word_count_nostopwords\n",
    "from authors\n",
    "\"\"\")\n",
    "word_count_table.write.parquet('temp_file/word_count.parquet')"
   ]
  },
  {
   "cell_type": "code",
   "execution_count": 7,
   "metadata": {},
   "outputs": [],
   "source": [
    "post_df = spark.read.csv('posts.csv')\n",
    "post_df.createOrReplaceTempView('posts')\n",
    "\n",
    "post_table = spark.sql(\"\"\"\n",
    "select posts._c0 post_id,\n",
    "       posts._c1 title,\n",
    "       posts._c2 blogger_name,\n",
    "       posts._c3 blogger_id,\n",
    "       posts._c4 number_of_comments,\n",
    "       posts._c5 content,\n",
    "       posts._c6 url,\n",
    "       posts._c7 date,\n",
    "       posts._c8 number_of_retrieved_comments\n",
    "from posts\n",
    "\"\"\")\n",
    "post_table.write.parquet('temp_file/posts.parquet')"
   ]
  },
  {
   "cell_type": "code",
   "execution_count": 8,
   "metadata": {},
   "outputs": [],
   "source": [
    "comment_df = spark.read.csv('comments.csv')\n",
    "comment_df.createOrReplaceTempView('comments')\n",
    "comment_table = spark.sql(\"\"\"\n",
    "select comments._c0 comment_id,\n",
    "       comments._c1 post_id,\n",
    "       comments._c2 content,\n",
    "       comments._c3 aurthor,\n",
    "       comments._c4 date,\n",
    "       comments._c5 vote\n",
    "from comments\n",
    "\"\"\")\n",
    "comment_table.write.parquet('temp_file/comments.parquet')"
   ]
  },
  {
   "cell_type": "code",
   "execution_count": 9,
   "metadata": {},
   "outputs": [
    {
     "name": "stderr",
     "output_type": "stream",
     "text": [
      "[nltk_data] Downloading package vader_lexicon to\n",
      "[nltk_data]     /home/godwin/nltk_data...\n",
      "[nltk_data]   Package vader_lexicon is already up-to-date!\n"
     ]
    }
   ],
   "source": [
    "comment_df = spark.read.csv('comments.csv')\n",
    "author_df = spark.read.csv('authors.csv')\n",
    "comment_df.createOrReplaceTempView('comments')\n",
    "author_df.createOrReplaceTempView('authors')\n",
    "\n",
    "\n",
    "review_staging_df = spark.sql(\"\"\"\n",
    "select authors._c1 author,\n",
    "        comments._c3 author_id,\n",
    "        comments._c1 post_id,\n",
    "        comments._c0 comment_id,\n",
    "        comments._c4 date,\n",
    "        lower(comments._c2) content\n",
    "from comments\n",
    "join authors on authors._c0 = comments._c3\n",
    "where comments._c3 is not null and comments._c2 is not null\n",
    "\"\"\")\n",
    "\n",
    "# Build the sentiment analyzer\n",
    "import nltk\n",
    "nltk.download('vader_lexicon')\n",
    "from nltk.sentiment.vader import SentimentIntensityAnalyzer\n",
    "analyser = SentimentIntensityAnalyzer()\n",
    "import pyspark.sql.functions as F\n",
    "from pyspark.sql.types import *\n",
    "import re\n",
    "\n",
    "\n",
    "def get_sentiment_analysis_score(sentence):\n",
    "    score = analyser.polarity_scores(sentence)\n",
    "    return score['compound']\n",
    "\n",
    "def get_sentiment_analysis_result(score):\n",
    "    if score >= 0.05:\n",
    "        return \"POSITIVE\"\n",
    "    elif score <= -0.05:\n",
    "        return \"NEGATIVE\"\n",
    "    else:\n",
    "        return \"NEUTRAL\"\n",
    "    \n",
    "get_sentiment_analysis_score_udf = F.udf(lambda x: get_sentiment_analysis_score(x), DoubleType())\n",
    "get_sentiment_analysis_result_udf = F.udf(lambda x: get_sentiment_analysis_result(x), StringType())\n",
    "\n",
    "\n",
    "# Load review data and write a parquet\n",
    "comment_review_table_df = review_staging_df \\\n",
    "    .withColumn(\"sa_score\", get_sentiment_analysis_score_udf(\"content\")) \\\n",
    "    .withColumn(\"sentiment\", get_sentiment_analysis_result_udf(\"sa_score\")) \\\n",
    "    .select(\n",
    "        \"author_id\",\n",
    "        \"author\",\n",
    "        \"post_id\",\n",
    "        \"comment_id\",\n",
    "        \"date\",\n",
    "        \"content\",\n",
    "        \"sentiment\")\n",
    "    \n",
    "comment_review_table_df.write.parquet('temp_file/comment_review_table_df.parquet')"
   ]
  },
  {
   "cell_type": "code",
   "execution_count": null,
   "metadata": {},
   "outputs": [],
   "source": []
  },
  {
   "cell_type": "code",
   "execution_count": null,
   "metadata": {},
   "outputs": [],
   "source": []
  },
  {
   "cell_type": "code",
   "execution_count": null,
   "metadata": {},
   "outputs": [],
   "source": []
  }
 ],
 "metadata": {
  "kernelspec": {
   "display_name": "Python 3",
   "language": "python",
   "name": "python3"
  },
  "language_info": {
   "codemirror_mode": {
    "name": "ipython",
    "version": 3
   },
   "file_extension": ".py",
   "mimetype": "text/x-python",
   "name": "python",
   "nbconvert_exporter": "python",
   "pygments_lexer": "ipython3",
   "version": "3.6.8"
  }
 },
 "nbformat": 4,
 "nbformat_minor": 2
}
