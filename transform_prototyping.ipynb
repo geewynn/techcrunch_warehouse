{
 "cells": [
  {
   "cell_type": "code",
   "execution_count": 5,
   "metadata": {},
   "outputs": [],
   "source": [
    "from pyspark.sql import SparkSession"
   ]
  },
  {
   "cell_type": "code",
   "execution_count": 13,
   "metadata": {},
   "outputs": [],
   "source": [
    "spark = SparkSession \\\n",
    "        .builder \\\n",
    "        .appName('Wrangling Data') \\\n",
    "        .getOrCreate()"
   ]
  },
  {
   "cell_type": "code",
   "execution_count": 14,
   "metadata": {},
   "outputs": [],
   "source": [
    "import os\n",
    "os.environ['PYSPARK_SUBMIT_ARGS'] = '--packages com.amazonaws:aws-java-sdk-pom:1.10.34,org.apache.hadoop:hadoop-aws:2.7.2 pyspark-shell'\n",
    "from pyspark.sql import SQLContext\n",
    "from pyspark import SparkContext\n",
    "#sc = SparkContext()\n",
    "#sqlContext = SQLContext(sc)\n",
    "#filePath = \"s3a://yourBucket/yourFile.parquet\"\n",
    "#df = sqlContext.read.parquet(filePath)"
   ]
  },
  {
   "cell_type": "code",
   "execution_count": 20,
   "metadata": {},
   "outputs": [],
   "source": []
  },
  {
   "cell_type": "code",
   "execution_count": 23,
   "metadata": {},
   "outputs": [],
   "source": [
    "author_df = spark.read.csv('s3:///bloggers-data/author/authors.csv')\n",
    "author_df.createOrReplaceTempView('author')\n",
    "\n",
    "author_table = spark.sql(\"\"\"\n",
    "select author_id,\n",
    "        name,\n",
    "        meibi,\n",
    "        meibix\n",
    "from author\n",
    "\"\"\")\n",
    "author_table_df.write.parquet('')\n",
    "\n",
    "word__count_table = spark.sql(\"\"\"\n",
    "select author_id,\n",
    "        name,\n",
    "        Average Number of Words in posts,\n",
    "        Average Number of Words in posts (without stopwords)\n",
    "from author\n",
    "\"\"\")\n",
    "word_count_table.write.parquet('')"
   ]
  },
  {
   "cell_type": "code",
   "execution_count": null,
   "metadata": {},
   "outputs": [],
   "source": [
    "post_df = spark.read.csv('s3:///bloggers-data/author/post.csv')\n",
    "post_df.createOrReplaceTempView('posts')\n",
    "\n",
    "post_table = spark.sql(\"\"\"\n",
    "select post_id,\n",
    "        title,\n",
    "        blogger_name,\n",
    "        blogger_id,\n",
    "        number_of_comments,\n",
    "        content,\n",
    "        url,\n",
    "        date,\n",
    "        number_of_retrieved_comments\n",
    "from post\n",
    "\"\"\")\n",
    "\n",
    "post_table_df.write.parquet('')\n",
    "\n",
    "\n"
   ]
  },
  {
   "cell_type": "code",
   "execution_count": null,
   "metadata": {},
   "outputs": [],
   "source": [
    "comment_df = spark.read.csv('s3:///bloggers-data/author/comment.csv')\n",
    "comment_df.createOrReplaceTempView('comment')\n",
    "comment_table = spark.sql(\"\"\"\n",
    "select comment_id,\n",
    "        post_id,\n",
    "        content,\n",
    "        aurthor,\n",
    "        date,\n",
    "        vote\n",
    "from comment\n",
    "\"\"\")\n",
    "comment_table.write.parquet('')"
   ]
  },
  {
   "cell_type": "code",
   "execution_count": null,
   "metadata": {},
   "outputs": [],
   "source": [
    "comment_df = spark.read.csv('s3:///bloggers-data/author/comment.csv')\n",
    "author_df = spark.read.csv('s3:///bloggers-data/author/authors.csv')\n",
    "comment_df.createOrReplaceTempView('comment')\n",
    "author_df.createOrReplaceTempView('author')\n",
    "\n",
    "\n",
    "review_staging_df = spark.sql(\"\"\"\n",
    "select a.author_id,\n",
    "        c.author,\n",
    "        c.post_id,\n",
    "        comment_id,\n",
    "        c.date,\n",
    "        c.content,\n",
    "        sentiment\n",
    "from comment c\n",
    "join author a on (a.name=c.author)\n",
    "\"\"\")\n",
    "\n",
    "\n",
    "# Build the sentiment analyzer\n",
    "from nltk.sentiment.vader import SentimentIntensityAnalyzer\n",
    "analyser = SentimentIntensityAnalyzer()\n",
    "\n",
    "def get_sentiment_analysis_score(sentence):\n",
    "    score = analyser.polarity_scores(sentence)\n",
    "    return score['compound']\n",
    "\n",
    "def get_sentiment_analysis_result(score):\n",
    "    if score >= 0.05:\n",
    "        return \"POSITIVE\"\n",
    "    elif score <= -0.05:\n",
    "        return \"NEGATIVE\"\n",
    "    else:\n",
    "        return \"NEUTRAL\"\n",
    "    \n",
    "get_sentiment_analysis_score_udf = F.udf(lambda x: get_sentiment_analysis_score(x), DoubleType())\n",
    "get_sentiment_analysis_result_udf = F.udf(lambda x: get_sentiment_analysis_result(x), StringType())\n",
    "\n",
    "# Load review data and write a parquet\n",
    "comment_review_table_df = review_staging_df \\\n",
    "    .withColumn(\"sa_score\", get_sentiment_analysis_score_udf(\"text\")) \\\n",
    "    .withColumn(\"sentiment\", get_sentiment_analysis_result_udf(\"sa_score\")) \\\n",
    "    .select(\n",
    "        \"review_id\",\n",
    "        \"user_id\",\n",
    "        \"business_id\",\n",
    "        \"stars\",\n",
    "        \"date\",\n",
    "        \"text\",\n",
    "        \"sentiment\")\n",
    "comment_review_table_df.write.parquet(\"\")\n",
    "\n",
    "comment_table.write.parquet('')"
   ]
  }
 ],
 "metadata": {
  "kernelspec": {
   "display_name": "Python 3",
   "language": "python",
   "name": "python3"
  },
  "language_info": {
   "codemirror_mode": {
    "name": "ipython",
    "version": 3
   },
   "file_extension": ".py",
   "mimetype": "text/x-python",
   "name": "python",
   "nbconvert_exporter": "python",
   "pygments_lexer": "ipython3",
   "version": "3.6.8"
  }
 },
 "nbformat": 4,
 "nbformat_minor": 2
}
